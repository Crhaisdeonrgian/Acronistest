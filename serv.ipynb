{
 "cells": [
  {
   "cell_type": "code",
   "execution_count": 20,
   "metadata": {},
   "outputs": [
    {
     "name": "stdout",
     "output_type": "stream",
     "text": [
      "среднее значение\n"
     ]
    },
    {
     "data": {
      "image/png": "[encoded data removed]",
      "text/plain": [
       "<Figure size 432x288 with 1 Axes>"
      ]
     },
     "metadata": {
      "needs_background": "light"
     },
     "output_type": "display_data"
    },
    {
     "name": "stdout",
     "output_type": "stream",
     "text": [
      "дисперсия\n"
     ]
    },
    {
     "data": {
      "image/png": "[encoded data removed]",
      "text/plain": [
       "<Figure size 432x288 with 1 Axes>"
      ]
     },
     "metadata": {
      "needs_background": "light"
     },
     "output_type": "display_data"
    }
   ],
   "source": [
    "import csv\n",
    "import pylab\n",
    "import matplotlib.dates\n",
    "import matplotlib.pyplot as plt\n",
    "import numpy as np\n",
    "import time\n",
    "import datetime\n",
    "%matplotlib inline\n",
    "from matplotlib.pyplot import (axes,axis,title,legend,figure,\n",
    "                               xlabel,ylabel,xticks,yticks,\n",
    "                               xscale,yscale,text,grid,\n",
    "                               plot,scatter,errorbar,hist,polar,\n",
    "                               contour,contourf,colorbar,clabel,\n",
    "                               imshow)\n",
    "def sredznach(head, row):\n",
    "    sred = 0\n",
    "    time_t = int(row[0])\n",
    "    timed =datetime.datetime.strptime(time.ctime(time_t), \"%a %b %d %H:%M:%S %Y\") \n",
    "    quant=[]\n",
    "    tlim=[]\n",
    "    for i in range(2, len(row)):\n",
    "        if not row[i]=='':\n",
    "            quant.append(float(row[i]))\n",
    "        else:\n",
    "            quant.append(0)\n",
    "        tlim.append(int(head[i]))\n",
    "    quant.sort()\n",
    "    tlim.sort()\n",
    "    #print(quant)\n",
    "    quantrue=[]\n",
    "    \n",
    "    for i in range(1, len(quant)):\n",
    "        #print(quant[i], \"before\")\n",
    "        quantrue.append(quant[i] - quant[i-1])\n",
    "    #print(quantrue)\n",
    "    summ=0\n",
    "    for i in range(len(quantrue)):\n",
    "        summ+=quantrue[i]*tlim[i]\n",
    "    if not row[1]=='':\n",
    "        sred=summ / float(row[1])\n",
    "    #print(sred)\n",
    "    return timed, sred\n",
    "def dispersion(m, head, row):\n",
    "    quant=[]\n",
    "    tlim=[]\n",
    "    for i in range(2, len(row)):\n",
    "        if not row[i]=='':\n",
    "            quant.append(float(row[i]))\n",
    "        else:\n",
    "            quant.append(0)\n",
    "        tlim.append(int(head[i]))\n",
    "    quant.sort()\n",
    "    tlim.sort()\n",
    "    #print(quant)\n",
    "    quantrue=[]\n",
    "    \n",
    "    for i in range(1, len(quant)):\n",
    "        #print(quant[i], \"before\")\n",
    "        quantrue.append(quant[i] - quant[i-1])\n",
    "    #print(quantrue)\n",
    "    summ=0\n",
    "    for i in range(len(quantrue)):\n",
    "        summ+=(quantrue[i]*tlim[i] - m)**2\n",
    "    if not row[1]=='':\n",
    "        disp=summ / (float(row[1])-1)\n",
    "        return disp\n",
    "def picture(x, y):\n",
    "    #print(\"BEGIN\")\n",
    "    #plot(x, y)\n",
    "\n",
    "    # Преобразуем даты в числовой формат\n",
    "    xdata_float = matplotlib.dates.date2num(x)\n",
    "\n",
    "    # Вызовем subplot явно, чтобы получить экземпляр класса AxesSubplot,\n",
    "    # из которого будем иметь доступ к осям\n",
    "    axes = pylab.subplot(1, 1, 1)\n",
    "\n",
    "    # Пусть в качестве меток по оси X выводится только год\n",
    "    axes.xaxis.set_major_formatter(matplotlib.dates.DateFormatter(\"%d\"))\n",
    "\n",
    "    # Отобразим данные\n",
    "    pylab.plot_date(xdata_float, y, fmt=\"b-\")\n",
    "\n",
    "\n",
    "    pylab.grid()\n",
    "    pylab.show()\n",
    "def csv_reader(file_obj):\n",
    "    \"\"\"\n",
    "    Read a csv file\n",
    "    \"\"\"\n",
    "    x=[]\n",
    "    y1=[]\n",
    "    y=[]\n",
    "    reader = csv.reader(file_obj)\n",
    "    table=[]\n",
    "    for row in reader:\n",
    "        table.append(row)\n",
    "        if row[0] == 'timestamp':\n",
    "            t0=row\n",
    "        else:\n",
    "            timed, sred = sredznach(t0,row)\n",
    "            #print(time)\n",
    "            x.append(timed)\n",
    "            y.append(sred)\n",
    "            disp=dispersion(sred,t0,row)\n",
    "            y1.append(disp)\n",
    "    #print(x)\n",
    "    #print(y1)\n",
    "    print(\"среднее значение\")\n",
    "    picture(x, y)\n",
    "    print(\"дисперсия\")\n",
    "    picture(x, y1)\n",
    "\n",
    "csv_path = \"/Users/igorvozhga/acronis/ms_bucket.csv\"\n",
    "with open(csv_path, \"r\") as f_obj:\n",
    "    data = csv_reader(f_obj)\n",
    "\n",
    "\n"
   ]
  },
  {
   "cell_type": "markdown",
   "metadata": {},
   "source": [
    "### "
   ]
  }
 ],
 "metadata": {
  "kernelspec": {
   "display_name": "Python 3",
   "language": "python",
   "name": "python3"
  },
  "language_info": {
   "codemirror_mode": {
    "name": "ipython",
    "version": 3
   },
   "file_extension": ".py",
   "mimetype": "text/x-python",
   "name": "python",
   "nbconvert_exporter": "python",
   "pygments_lexer": "ipython3",
   "version": "3.7.1"
  }
 },
 "nbformat": 4,
 "nbformat_minor": 2
}
